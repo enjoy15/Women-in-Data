{
 "cells": [
  {
   "cell_type": "markdown",
   "metadata": {},
   "source": [
    "# Write a program to ask a student for their percentage mark and convert this to a grade. The conversion will be done in a function called mark_grade"
   ]
  },
  {
   "cell_type": "code",
   "execution_count": 24,
   "metadata": {},
   "outputs": [],
   "source": [
    "def mark_grade (mark):\n",
    "    if mark > 90:\n",
    "        return(\"A*\")\n",
    "    elif mark > 80:\n",
    "        return(\"A\")        \n",
    "    elif mark > 70:\n",
    "        return(\"B\")  \n",
    "    elif mark > 60:\n",
    "        return(\"C\")      \n",
    "    else:\n",
    "        return(\"F\")   "
   ]
  },
  {
   "cell_type": "code",
   "execution_count": 25,
   "metadata": {},
   "outputs": [
    {
     "name": "stdout",
     "output_type": "stream",
     "text": [
      "Enter the student's mark: 81\n"
     ]
    }
   ],
   "source": [
    "# Ask student for their percentage mark\n",
    "mark = input(\"Enter the student's mark: \")"
   ]
  },
  {
   "cell_type": "code",
   "execution_count": 26,
   "metadata": {},
   "outputs": [
    {
     "name": "stdout",
     "output_type": "stream",
     "text": [
      "grade is A\n"
     ]
    }
   ],
   "source": [
    "grade = mark_grade (int(mark))\n",
    "print (\"grade is \" + grade)"
   ]
  },
  {
   "cell_type": "code",
   "execution_count": 27,
   "metadata": {},
   "outputs": [
    {
     "name": "stdout",
     "output_type": "stream",
     "text": [
      "Enter your target grade: A*\n"
     ]
    }
   ],
   "source": [
    "# Ask the user for their target grade and print this with their mark\n",
    "target = input(\"Enter your target grade: \")"
   ]
  },
  {
   "cell_type": "code",
   "execution_count": 28,
   "metadata": {},
   "outputs": [],
   "source": [
    "def target_grade (target,mark):\n",
    "    if target > mark:\n",
    "        return(\"Your grade is lower than your target grade\")\n",
    "    elif target == mark:\n",
    "        return(\"Your grade is equal to your target grade\")        \n",
    "    elif target < mark:\n",
    "        return(\"Your grade is equal to your target grade\")  "
   ]
  },
  {
   "cell_type": "code",
   "execution_count": 23,
   "metadata": {},
   "outputs": [
    {
     "name": "stdout",
     "output_type": "stream",
     "text": [
      "Your grade is lower than your target grade\n"
     ]
    }
   ],
   "source": [
    "compare = target_grade (target, mark)\n",
    "print (compare)"
   ]
  },
  {
   "cell_type": "code",
   "execution_count": null,
   "metadata": {},
   "outputs": [],
   "source": []
  }
 ],
 "metadata": {
  "kernelspec": {
   "display_name": "Python 3",
   "language": "python",
   "name": "python3"
  },
  "language_info": {
   "codemirror_mode": {
    "name": "ipython",
    "version": 3
   },
   "file_extension": ".py",
   "mimetype": "text/x-python",
   "name": "python",
   "nbconvert_exporter": "python",
   "pygments_lexer": "ipython3",
   "version": "3.8.3"
  }
 },
 "nbformat": 4,
 "nbformat_minor": 4
}
