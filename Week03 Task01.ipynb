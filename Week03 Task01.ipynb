{
 "cells": [
  {
   "cell_type": "markdown",
   "metadata": {},
   "source": [
    "# Write a program that allows you to enter 4 numbers and stores them in a file called “Numbers”\n",
    "•3\n",
    "• 45\n",
    "• 83\n",
    "• 21\n",
    "Have a go at ‘w’ ‘r’ ‘a’"
   ]
  },
  {
   "cell_type": "code",
   "execution_count": 15,
   "metadata": {},
   "outputs": [
    {
     "name": "stdout",
     "output_type": "stream",
     "text": [
      "Enter 4 numbers. Enter number 1: 3\n",
      "Enter number 2: 45\n",
      "Enter number 3: 83\n",
      "Enter number 4: 21\n"
     ]
    }
   ],
   "source": [
    "# Ask user to enter 4 numbers\n",
    "num1 = input(\"Enter 4 numbers. Enter number 1: \")\n",
    "num2 = input(\"Enter number 2: \")\n",
    "num3 = input(\"Enter number 3: \")\n",
    "num4 = input(\"Enter number 4: \")"
   ]
  },
  {
   "cell_type": "code",
   "execution_count": 17,
   "metadata": {},
   "outputs": [
    {
     "name": "stdout",
     "output_type": "stream",
     "text": [
      "['3', '45', '83', '21']\n"
     ]
    }
   ],
   "source": [
    "num_list = [num1,num2,num3,num4]\n",
    "print (num_list)"
   ]
  },
  {
   "cell_type": "code",
   "execution_count": 22,
   "metadata": {},
   "outputs": [],
   "source": [
    "my_file = open(\"Numbers.txt\", \"w\")\n",
    "for i in range(len(num_list)):\n",
    "    my_file.write(str(num_list[i])) \n",
    "    my_file.write(\"\\n\")\n",
    "my_file.close()"
   ]
  },
  {
   "cell_type": "code",
   "execution_count": 23,
   "metadata": {},
   "outputs": [
    {
     "name": "stdout",
     "output_type": "stream",
     "text": [
      "3,45,83,21,\n"
     ]
    }
   ],
   "source": [
    "with open (\"Numbers.txt\",\"r\") as myfile:\n",
    "    data = myfile.read().replace('\\n', ',')\n",
    "my_file.close()\n",
    "print (data)"
   ]
  },
  {
   "cell_type": "code",
   "execution_count": 24,
   "metadata": {},
   "outputs": [],
   "source": [
    "my_file = open(\"Numbers.txt\", \"a\")\n",
    "my_file.write(\"Where has it gone?\")\n",
    "my_file.close()"
   ]
  },
  {
   "cell_type": "code",
   "execution_count": null,
   "metadata": {},
   "outputs": [],
   "source": []
  }
 ],
 "metadata": {
  "kernelspec": {
   "display_name": "Python 3",
   "language": "python",
   "name": "python3"
  },
  "language_info": {
   "codemirror_mode": {
    "name": "ipython",
    "version": 3
   },
   "file_extension": ".py",
   "mimetype": "text/x-python",
   "name": "python",
   "nbconvert_exporter": "python",
   "pygments_lexer": "ipython3",
   "version": "3.8.3"
  }
 },
 "nbformat": 4,
 "nbformat_minor": 4
}
